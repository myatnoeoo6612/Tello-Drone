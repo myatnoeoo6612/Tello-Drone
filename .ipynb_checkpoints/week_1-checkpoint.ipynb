{
 "cells": [
  {
   "cell_type": "code",
   "execution_count": 1,
   "id": "b11f119a-01ac-45ad-aaf5-3e14b32efb0a",
   "metadata": {},
   "outputs": [],
   "source": [
    "from djitellopy import Tello\n",
    "import time"
   ]
  },
  {
   "cell_type": "code",
   "execution_count": 4,
   "id": "eff55ee8-7987-449e-92a8-128775f8ca93",
   "metadata": {},
   "outputs": [
    {
     "name": "stderr",
     "output_type": "stream",
     "text": [
      "[INFO] tello.py - 106 - Tello instance was initialized. Host: '192.168.10.1'. Port: '8889'.\n"
     ]
    }
   ],
   "source": [
    "my = Tello()"
   ]
  },
  {
   "cell_type": "code",
   "execution_count": 5,
   "id": "5011a2e7-6529-481d-afb8-079ef39920ca",
   "metadata": {},
   "outputs": [
    {
     "name": "stderr",
     "output_type": "stream",
     "text": [
      "[INFO] tello.py - 421 - Send command: 'command'\n",
      "[INFO] tello.py - 445 - Response command: 'ok'\n"
     ]
    }
   ],
   "source": [
    "#connect\n",
    "my.connect()"
   ]
  },
  {
   "cell_type": "code",
   "execution_count": 6,
   "id": "4f5c2ac5-4bb5-4cb3-b919-8553d0f57b1c",
   "metadata": {},
   "outputs": [
    {
     "data": {
      "text/plain": [
       "58"
      ]
     },
     "execution_count": 6,
     "metadata": {},
     "output_type": "execute_result"
    }
   ],
   "source": [
    "#print the Battery %\n",
    "battery = my.get_battery()\n",
    "battery"
   ]
  },
  {
   "cell_type": "code",
   "execution_count": null,
   "id": "94cf8ef9-7fee-49e6-98b7-92b492b2d4cb",
   "metadata": {},
   "outputs": [],
   "source": [
    "for x in range(1):\n",
    "    tello.takeoff()\n",
    "    my.move_up(80)\n",
    "    my.move_forward(100)\n",
    "    my.move_left(100)\n",
    "    my.move_back(100)\n",
    "    my.move_right(100)\n",
    "    my.move_forward(100)\n",
    "    my.land()"
   ]
  }
 ],
 "metadata": {
  "kernelspec": {
   "display_name": "Python 3 (ipykernel)",
   "language": "python",
   "name": "python3"
  },
  "language_info": {
   "codemirror_mode": {
    "name": "ipython",
    "version": 3
   },
   "file_extension": ".py",
   "mimetype": "text/x-python",
   "name": "python",
   "nbconvert_exporter": "python",
   "pygments_lexer": "ipython3",
   "version": "3.12.4"
  }
 },
 "nbformat": 4,
 "nbformat_minor": 5
}
