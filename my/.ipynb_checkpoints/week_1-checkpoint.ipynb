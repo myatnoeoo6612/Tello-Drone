{
 "cells": [
  {
   "cell_type": "code",
   "execution_count": null,
   "id": "b11f119a-01ac-45ad-aaf5-3e14b32efb0a",
   "metadata": {},
   "outputs": [],
   "source": [
    "from djitellopy import Tello\n",
    "import time"
   ]
  },
  {
   "cell_type": "code",
   "execution_count": null,
   "id": "eff55ee8-7987-449e-92a8-128775f8ca93",
   "metadata": {},
   "outputs": [],
   "source": [
    "my = Tello()"
   ]
  },
  {
   "cell_type": "code",
   "execution_count": null,
   "id": "5011a2e7-6529-481d-afb8-079ef39920ca",
   "metadata": {},
   "outputs": [],
   "source": [
    "#connect\n",
    "my.connect()"
   ]
  },
  {
   "cell_type": "code",
   "execution_count": null,
   "id": "4f5c2ac5-4bb5-4cb3-b919-8553d0f57b1c",
   "metadata": {},
   "outputs": [],
   "source": [
    "#print the Battery %\n",
    "battery = my.get_battery()\n",
    "battery"
   ]
  },
  {
   "cell_type": "code",
   "execution_count": null,
   "id": "d5dec55c-9690-4505-a2cd-7c0db668b754",
   "metadata": {
    "scrolled": true
   },
   "outputs": [],
   "source": [
    "print(f\"Height: {my.get_height()}\")\n",
    "for i in range(2):\n",
    "    print(\"Battery : \", battery)\n",
    "    print(\"Move Up\")\n",
    "    my.move_up(80) #up\n",
    "    print(f\"Height: {my.get_height()}\")\n",
    "    my.move_forward(100) #forward 100\n",
    "    print(f\"Height: {my.get_height()}\")\n",
    "    my.move_left(100) #left 100\n",
    "    print(f\"Height: {my.get_height()}\")\n",
    "    my.move_back(100) #back 100\n",
    "    print(f\"Height: {my.get_height()}\")\n",
    "    my.move_right(100) #right 100\n",
    "    print(f\"Height: {my.get_height()}\")\n",
    "    my.move_forward(100) #forward 100\n",
    "    print(f\"Height: {my.get_height()}\")\n",
    "    print(\"Move Down\")\n",
    "    my.land() #land\n",
    "    print(\"Battery : \", battery)"
   ]
  },
  {
   "cell_type": "code",
   "execution_count": null,
   "id": "0c150ebf-3013-4662-95b0-c9befbe46560",
   "metadata": {},
   "outputs": [],
   "source": []
  }
 ],
 "metadata": {
  "kernelspec": {
   "display_name": "Python 3 (ipykernel)",
   "language": "python",
   "name": "python3"
  },
  "language_info": {
   "codemirror_mode": {
    "name": "ipython",
    "version": 3
   },
   "file_extension": ".py",
   "mimetype": "text/x-python",
   "name": "python",
   "nbconvert_exporter": "python",
   "pygments_lexer": "ipython3",
   "version": "3.12.4"
  }
 },
 "nbformat": 4,
 "nbformat_minor": 5
}
