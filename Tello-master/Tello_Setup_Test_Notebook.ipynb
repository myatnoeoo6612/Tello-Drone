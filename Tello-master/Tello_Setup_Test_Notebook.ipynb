{
 "cells": [
  {
   "cell_type": "markdown",
   "metadata": {},
   "source": [
    "# Tello Setup Test Notebook\n",
    "\n",
    "In this notebook we will create command using the DJITelloPy package to control the Tello Drone.\n",
    "\n",
    "> Github Repo for the DJITelloPy API\n",
    "- https://github.com/damiafuentes/DJITelloPy\n",
    "\n",
    "> All operations are from the Tello perspective\n",
    "- Instructing the Tello to move left, moves the Tello drone to the left, but it will look like it is moving to our right as we look at it. \n",
    "\n",
    "> Tello will sometimes land on its own\n",
    "- This happens if you do not issue a recent command.  The Tello will assume it has lost connect\n",
    "- If the bottom optical sensors cannot detect position\n",
    "- If the Tello loses connection with the computer\n"
   ]
  },
  {
   "cell_type": "markdown",
   "metadata": {},
   "source": [
    "First import the Tello object from the DJITelloPy package"
   ]
  },
  {
   "cell_type": "code",
   "execution_count": 1,
   "metadata": {
    "ExecuteTime": {
     "end_time": "2020-07-13T03:46:41.993466Z",
     "start_time": "2020-07-13T03:46:41.866594Z"
    }
   },
   "outputs": [],
   "source": [
    "from djitellopy import Tello"
   ]
  },
  {
   "cell_type": "markdown",
   "metadata": {},
   "source": [
    "The first step is to create the Tello object.  This object will represent the Tello Drone.\n",
    "\n",
    "By default the port that the Tello object will listen on is `8889`.  You will recognize this port from the `Tello Drone Programming with Python - Video Course` as the port we always used.\n",
    "\n",
    "The default IP Address we connected to is `192.168.10.1`.  "
   ]
  },
  {
   "cell_type": "code",
   "execution_count": 2,
   "metadata": {
    "ExecuteTime": {
     "end_time": "2020-07-13T03:46:49.649042Z",
     "start_time": "2020-07-13T03:46:49.645844Z"
    }
   },
   "outputs": [
    {
     "name": "stderr",
     "output_type": "stream",
     "text": [
      "[INFO] tello.py - 106 - Tello instance was initialized. Host: '192.168.10.1'. Port: '8889'.\n"
     ]
    }
   ],
   "source": [
    "tello = Tello()"
   ]
  },
  {
   "cell_type": "markdown",
   "metadata": {},
   "source": [
    "Creating the Tello object will not connect to the Tello or attempt to send any commands to the Tello.  You can think of the Tello object as the software representation of the actual Drone."
   ]
  },
  {
   "cell_type": "markdown",
   "metadata": {},
   "source": [
    "\n",
    "At this point you can power on the Drone and connect your WIFI network to the Tello WIFI Access point.  When this is complete - come back to here to continue with commands.\n",
    "\n",
    "Connect to the Tello."
   ]
  },
  {
   "cell_type": "code",
   "execution_count": 3,
   "metadata": {
    "ExecuteTime": {
     "end_time": "2020-07-13T03:47:03.679714Z",
     "start_time": "2020-07-13T03:47:03.559252Z"
    }
   },
   "outputs": [
    {
     "name": "stderr",
     "output_type": "stream",
     "text": [
      "[INFO] tello.py - 421 - Send command: 'command'\n",
      "[INFO] tello.py - 445 - Response command: 'ok'\n"
     ]
    }
   ],
   "source": [
    "tello.connect()"
   ]
  },
  {
   "cell_type": "markdown",
   "metadata": {},
   "source": [
    "Get the Battery Life Percentage.  Using the API we call the `get_battery()` function.  Recall how we did this in the course.  We sent a message with a string: `battery?`.  \n",
    "\n",
    "The Tello API provides a more programmatic interface and hides the details of the actual commands.\n",
    "\n",
    "Notice that the calls are synchronous.  Meaning the function call returns after Tello has completed the command."
   ]
  },
  {
   "cell_type": "code",
   "execution_count": 4,
   "metadata": {
    "ExecuteTime": {
     "end_time": "2020-07-13T03:47:11.109791Z",
     "start_time": "2020-07-13T03:47:11.106693Z"
    }
   },
   "outputs": [
    {
     "name": "stdout",
     "output_type": "stream",
     "text": [
      "94\n"
     ]
    }
   ],
   "source": [
    "response = tello.get_battery()\n",
    "print(response)"
   ]
  },
  {
   "cell_type": "markdown",
   "metadata": {},
   "source": [
    "We are ready for takeoff.  Make sure Tello is clear of any obstacles.  We will fly the Tello is a small square."
   ]
  },
  {
   "cell_type": "code",
   "execution_count": 21,
   "metadata": {
    "ExecuteTime": {
     "end_time": "2020-07-13T03:47:23.131430Z",
     "start_time": "2020-07-13T03:47:16.514127Z"
    }
   },
   "outputs": [
    {
     "name": "stderr",
     "output_type": "stream",
     "text": [
      "[INFO] tello.py - 421 - Send command: 'takeoff'\n",
      "[INFO] tello.py - 445 - Response takeoff: 'ok'\n"
     ]
    }
   ],
   "source": [
    "tello.takeoff()"
   ]
  },
  {
   "cell_type": "markdown",
   "metadata": {},
   "source": [
    "## Move Up / Move Down"
   ]
  },
  {
   "cell_type": "code",
   "execution_count": 22,
   "metadata": {
    "scrolled": true
   },
   "outputs": [
    {
     "name": "stderr",
     "output_type": "stream",
     "text": [
      "[INFO] tello.py - 421 - Send command: 'up 30'\n",
      "[INFO] tello.py - 445 - Response up 30: 'error Not joystick'\n",
      "[INFO] tello.py - 421 - Send command: 'up 30'\n",
      "[INFO] tello.py - 445 - Response up 30: 'ok'\n"
     ]
    }
   ],
   "source": [
    "tello.move_up(30)"
   ]
  },
  {
   "cell_type": "code",
   "execution_count": 23,
   "metadata": {},
   "outputs": [
    {
     "name": "stderr",
     "output_type": "stream",
     "text": [
      "[INFO] tello.py - 421 - Send command: 'down 40'\n",
      "[INFO] tello.py - 445 - Response down 40: 'ok'\n"
     ]
    }
   ],
   "source": [
    "tello.move_down(40)"
   ]
  },
  {
   "cell_type": "code",
   "execution_count": 24,
   "metadata": {},
   "outputs": [
    {
     "name": "stderr",
     "output_type": "stream",
     "text": [
      "[INFO] tello.py - 421 - Send command: 'up 40'\n",
      "[INFO] tello.py - 445 - Response up 40: 'ok'\n",
      "[INFO] tello.py - 421 - Send command: 'down 40'\n"
     ]
    },
    {
     "name": "stdout",
     "output_type": "stream",
     "text": [
      "Height: 60\n",
      "Move Up\n",
      "Height: 60\n",
      "Move Down\n"
     ]
    },
    {
     "name": "stderr",
     "output_type": "stream",
     "text": [
      "[INFO] tello.py - 445 - Response down 40: 'ok'\n",
      "[INFO] tello.py - 421 - Send command: 'up 40'\n"
     ]
    },
    {
     "name": "stdout",
     "output_type": "stream",
     "text": [
      "Height: 100\n",
      "Move Up\n"
     ]
    },
    {
     "name": "stderr",
     "output_type": "stream",
     "text": [
      "[INFO] tello.py - 445 - Response up 40: 'ok'\n",
      "[INFO] tello.py - 421 - Send command: 'down 40'\n"
     ]
    },
    {
     "name": "stdout",
     "output_type": "stream",
     "text": [
      "Height: 130\n",
      "Move Down\n"
     ]
    },
    {
     "name": "stderr",
     "output_type": "stream",
     "text": [
      "[INFO] tello.py - 445 - Response down 40: 'ok'\n",
      "[INFO] tello.py - 421 - Send command: 'up 40'\n"
     ]
    },
    {
     "name": "stdout",
     "output_type": "stream",
     "text": [
      "Height: 100\n",
      "Move Up\n"
     ]
    },
    {
     "name": "stderr",
     "output_type": "stream",
     "text": [
      "[INFO] tello.py - 445 - Response up 40: 'ok'\n",
      "[INFO] tello.py - 421 - Send command: 'down 40'\n"
     ]
    },
    {
     "name": "stdout",
     "output_type": "stream",
     "text": [
      "Height: 130\n",
      "Move Down\n"
     ]
    },
    {
     "name": "stderr",
     "output_type": "stream",
     "text": [
      "[INFO] tello.py - 445 - Response down 40: 'ok'\n",
      "[INFO] tello.py - 421 - Send command: 'up 40'\n"
     ]
    },
    {
     "name": "stdout",
     "output_type": "stream",
     "text": [
      "Height: 100\n",
      "Move Up\n"
     ]
    },
    {
     "name": "stderr",
     "output_type": "stream",
     "text": [
      "[INFO] tello.py - 445 - Response up 40: 'ok'\n",
      "[INFO] tello.py - 421 - Send command: 'down 40'\n"
     ]
    },
    {
     "name": "stdout",
     "output_type": "stream",
     "text": [
      "Height: 130\n",
      "Move Down\n"
     ]
    },
    {
     "name": "stderr",
     "output_type": "stream",
     "text": [
      "[INFO] tello.py - 445 - Response down 40: 'ok'\n"
     ]
    },
    {
     "name": "stdout",
     "output_type": "stream",
     "text": [
      "Height: 100\n"
     ]
    }
   ],
   "source": [
    "# Create a loop to go up and down 3 times\n",
    "# range(0,4) - produces the numbers 0,1,2,3.  It is said to be exclusive of the last number 4.\n",
    "print(f\"Height: {tello.get_height()}\")\n",
    "for i in range(0,4):\n",
    "    print(\"Move Up\")\n",
    "    tello.move_up(40)\n",
    "    print(f\"Height: {tello.get_height()}\")\n",
    "    print(\"Move Down\")\n",
    "    tello.move_down(40)\n",
    "    print(f\"Height: {tello.get_height()}\")\n"
   ]
  },
  {
   "cell_type": "markdown",
   "metadata": {},
   "source": [
    "## Move Left / Move Right\n",
    "\n",
    "Remembers that LEFT and RIGHT are with respect to the Tello - not as you are looking at it.\n",
    "\n",
    "For example, if you are looking at the Tello and instruct it to go RIGHT, it will move to your left."
   ]
  },
  {
   "cell_type": "code",
   "execution_count": 26,
   "metadata": {},
   "outputs": [
    {
     "name": "stderr",
     "output_type": "stream",
     "text": [
      "[INFO] tello.py - 421 - Send command: 'left 30'\n",
      "[INFO] tello.py - 445 - Response left 30: 'ok'\n"
     ]
    }
   ],
   "source": [
    "tello.move_left(30)"
   ]
  },
  {
   "cell_type": "code",
   "execution_count": 27,
   "metadata": {},
   "outputs": [
    {
     "name": "stderr",
     "output_type": "stream",
     "text": [
      "[INFO] tello.py - 421 - Send command: 'right 30'\n",
      "[INFO] tello.py - 445 - Response right 30: 'ok'\n"
     ]
    }
   ],
   "source": [
    "tello.move_right(30)"
   ]
  },
  {
   "cell_type": "code",
   "execution_count": null,
   "metadata": {},
   "outputs": [],
   "source": [
    "for i in range(0,4):\n",
    "    print(\"Move Left\")\n",
    "    tello.move_left(30)\n",
    "    print(\"Move Right\")\n",
    "    tello.move_right(30)"
   ]
  },
  {
   "cell_type": "markdown",
   "metadata": {},
   "source": [
    "## Move Forward / Move Backward"
   ]
  },
  {
   "cell_type": "code",
   "execution_count": 28,
   "metadata": {},
   "outputs": [
    {
     "name": "stderr",
     "output_type": "stream",
     "text": [
      "[INFO] tello.py - 421 - Send command: 'forward 60'\n",
      "[INFO] tello.py - 445 - Response forward 60: 'ok'\n"
     ]
    }
   ],
   "source": [
    "tello.move_forward(60)"
   ]
  },
  {
   "cell_type": "code",
   "execution_count": 29,
   "metadata": {},
   "outputs": [
    {
     "name": "stderr",
     "output_type": "stream",
     "text": [
      "[INFO] tello.py - 421 - Send command: 'back 30'\n",
      "[INFO] tello.py - 445 - Response back 30: 'ok'\n"
     ]
    }
   ],
   "source": [
    "tello.move_back(30)"
   ]
  },
  {
   "cell_type": "markdown",
   "metadata": {},
   "source": [
    "## Rotate Clockwise / Rotate CounterClockwise\n",
    "\n",
    "If you image yourself looking down at the top of the Tello, CLOCKWISE is a rotation to the right.  COUNTER-CLOCKWISE is a rotation to the left"
   ]
  },
  {
   "cell_type": "code",
   "execution_count": 31,
   "metadata": {},
   "outputs": [
    {
     "name": "stderr",
     "output_type": "stream",
     "text": [
      "[INFO] tello.py - 421 - Send command: 'cw 180'\n",
      "[INFO] tello.py - 445 - Response cw 180: 'error Auto land'\n",
      "[INFO] tello.py - 421 - Send command: 'cw 180'\n",
      "[INFO] tello.py - 445 - Response cw 180: 'error Auto land'\n",
      "[INFO] tello.py - 421 - Send command: 'cw 180'\n",
      "[INFO] tello.py - 445 - Response cw 180: 'error Auto land'\n"
     ]
    },
    {
     "ename": "Exception",
     "evalue": "Command 'cw 180' was unsuccessful for 4 tries. Latest response:\t'error Auto land'",
     "output_type": "error",
     "traceback": [
      "\u001b[0;31m---------------------------------------------------------------------------\u001b[0m",
      "\u001b[0;31mException\u001b[0m                                 Traceback (most recent call last)",
      "Cell \u001b[0;32mIn[31], line 1\u001b[0m\n\u001b[0;32m----> 1\u001b[0m tello\u001b[38;5;241m.\u001b[39mrotate_clockwise(\u001b[38;5;241m180\u001b[39m)\n",
      "File \u001b[0;32m~/anaconda3/envs/drone/lib/python3.12/site-packages/djitellopy/enforce_types.py:54\u001b[0m, in \u001b[0;36menforce_types.<locals>.decorate.<locals>.wrapper\u001b[0;34m(*args, **kwargs)\u001b[0m\n\u001b[1;32m     51\u001b[0m \u001b[38;5;129m@wraps\u001b[39m(func)\n\u001b[1;32m     52\u001b[0m \u001b[38;5;28;01mdef\u001b[39;00m \u001b[38;5;21mwrapper\u001b[39m(\u001b[38;5;241m*\u001b[39margs, \u001b[38;5;241m*\u001b[39m\u001b[38;5;241m*\u001b[39mkwargs):\n\u001b[1;32m     53\u001b[0m     check_types(spec, \u001b[38;5;241m*\u001b[39margs, \u001b[38;5;241m*\u001b[39m\u001b[38;5;241m*\u001b[39mkwargs)\n\u001b[0;32m---> 54\u001b[0m     \u001b[38;5;28;01mreturn\u001b[39;00m func(\u001b[38;5;241m*\u001b[39margs, \u001b[38;5;241m*\u001b[39m\u001b[38;5;241m*\u001b[39mkwargs)\n",
      "File \u001b[0;32m~/anaconda3/envs/drone/lib/python3.12/site-packages/djitellopy/tello.py:627\u001b[0m, in \u001b[0;36mTello.rotate_clockwise\u001b[0;34m(self, x)\u001b[0m\n\u001b[1;32m    622\u001b[0m \u001b[38;5;28;01mdef\u001b[39;00m \u001b[38;5;21mrotate_clockwise\u001b[39m(\u001b[38;5;28mself\u001b[39m, x: \u001b[38;5;28mint\u001b[39m):\n\u001b[1;32m    623\u001b[0m \u001b[38;5;250m    \u001b[39m\u001b[38;5;124;03m\"\"\"Rotate x degree clockwise.\u001b[39;00m\n\u001b[1;32m    624\u001b[0m \u001b[38;5;124;03m    Arguments:\u001b[39;00m\n\u001b[1;32m    625\u001b[0m \u001b[38;5;124;03m        x: 1-360\u001b[39;00m\n\u001b[1;32m    626\u001b[0m \u001b[38;5;124;03m    \"\"\"\u001b[39;00m\n\u001b[0;32m--> 627\u001b[0m     \u001b[38;5;28mself\u001b[39m\u001b[38;5;241m.\u001b[39msend_control_command(\u001b[38;5;124m\"\u001b[39m\u001b[38;5;124mcw \u001b[39m\u001b[38;5;132;01m{}\u001b[39;00m\u001b[38;5;124m\"\u001b[39m\u001b[38;5;241m.\u001b[39mformat(x))\n",
      "File \u001b[0;32m~/anaconda3/envs/drone/lib/python3.12/site-packages/djitellopy/enforce_types.py:54\u001b[0m, in \u001b[0;36menforce_types.<locals>.decorate.<locals>.wrapper\u001b[0;34m(*args, **kwargs)\u001b[0m\n\u001b[1;32m     51\u001b[0m \u001b[38;5;129m@wraps\u001b[39m(func)\n\u001b[1;32m     52\u001b[0m \u001b[38;5;28;01mdef\u001b[39;00m \u001b[38;5;21mwrapper\u001b[39m(\u001b[38;5;241m*\u001b[39margs, \u001b[38;5;241m*\u001b[39m\u001b[38;5;241m*\u001b[39mkwargs):\n\u001b[1;32m     53\u001b[0m     check_types(spec, \u001b[38;5;241m*\u001b[39margs, \u001b[38;5;241m*\u001b[39m\u001b[38;5;241m*\u001b[39mkwargs)\n\u001b[0;32m---> 54\u001b[0m     \u001b[38;5;28;01mreturn\u001b[39;00m func(\u001b[38;5;241m*\u001b[39margs, \u001b[38;5;241m*\u001b[39m\u001b[38;5;241m*\u001b[39mkwargs)\n",
      "File \u001b[0;32m~/anaconda3/envs/drone/lib/python3.12/site-packages/djitellopy/tello.py:470\u001b[0m, in \u001b[0;36mTello.send_control_command\u001b[0;34m(self, command, timeout)\u001b[0m\n\u001b[1;32m    466\u001b[0m         \u001b[38;5;28;01mreturn\u001b[39;00m \u001b[38;5;28;01mTrue\u001b[39;00m\n\u001b[1;32m    468\u001b[0m     \u001b[38;5;28mself\u001b[39m\u001b[38;5;241m.\u001b[39mLOGGER\u001b[38;5;241m.\u001b[39mdebug(\u001b[38;5;124m\"\u001b[39m\u001b[38;5;124mCommand attempt #\u001b[39m\u001b[38;5;132;01m{}\u001b[39;00m\u001b[38;5;124m failed for command: \u001b[39m\u001b[38;5;124m'\u001b[39m\u001b[38;5;132;01m{}\u001b[39;00m\u001b[38;5;124m'\u001b[39m\u001b[38;5;124m\"\u001b[39m\u001b[38;5;241m.\u001b[39mformat(i, command))\n\u001b[0;32m--> 470\u001b[0m \u001b[38;5;28mself\u001b[39m\u001b[38;5;241m.\u001b[39mraise_result_error(command, response)\n\u001b[1;32m    471\u001b[0m \u001b[38;5;28;01mreturn\u001b[39;00m \u001b[38;5;28;01mFalse\u001b[39;00m\n",
      "File \u001b[0;32m~/anaconda3/envs/drone/lib/python3.12/site-packages/djitellopy/enforce_types.py:54\u001b[0m, in \u001b[0;36menforce_types.<locals>.decorate.<locals>.wrapper\u001b[0;34m(*args, **kwargs)\u001b[0m\n\u001b[1;32m     51\u001b[0m \u001b[38;5;129m@wraps\u001b[39m(func)\n\u001b[1;32m     52\u001b[0m \u001b[38;5;28;01mdef\u001b[39;00m \u001b[38;5;21mwrapper\u001b[39m(\u001b[38;5;241m*\u001b[39margs, \u001b[38;5;241m*\u001b[39m\u001b[38;5;241m*\u001b[39mkwargs):\n\u001b[1;32m     53\u001b[0m     check_types(spec, \u001b[38;5;241m*\u001b[39margs, \u001b[38;5;241m*\u001b[39m\u001b[38;5;241m*\u001b[39mkwargs)\n\u001b[0;32m---> 54\u001b[0m     \u001b[38;5;28;01mreturn\u001b[39;00m func(\u001b[38;5;241m*\u001b[39margs, \u001b[38;5;241m*\u001b[39m\u001b[38;5;241m*\u001b[39mkwargs)\n",
      "File \u001b[0;32m~/anaconda3/envs/drone/lib/python3.12/site-packages/djitellopy/tello.py:512\u001b[0m, in \u001b[0;36mTello.raise_result_error\u001b[0;34m(self, command, response)\u001b[0m\n\u001b[1;32m    508\u001b[0m \u001b[38;5;250m\u001b[39m\u001b[38;5;124;03m\"\"\"Used to reaise an error after an unsuccessful command\u001b[39;00m\n\u001b[1;32m    509\u001b[0m \u001b[38;5;124;03mInternal method, you normally wouldn't call this yourself.\u001b[39;00m\n\u001b[1;32m    510\u001b[0m \u001b[38;5;124;03m\"\"\"\u001b[39;00m\n\u001b[1;32m    511\u001b[0m tries \u001b[38;5;241m=\u001b[39m \u001b[38;5;241m1\u001b[39m \u001b[38;5;241m+\u001b[39m \u001b[38;5;28mself\u001b[39m\u001b[38;5;241m.\u001b[39mretry_count\n\u001b[0;32m--> 512\u001b[0m \u001b[38;5;28;01mraise\u001b[39;00m \u001b[38;5;167;01mException\u001b[39;00m(\u001b[38;5;124m\"\u001b[39m\u001b[38;5;124mCommand \u001b[39m\u001b[38;5;124m'\u001b[39m\u001b[38;5;132;01m{}\u001b[39;00m\u001b[38;5;124m'\u001b[39m\u001b[38;5;124m was unsuccessful for \u001b[39m\u001b[38;5;132;01m{}\u001b[39;00m\u001b[38;5;124m tries. Latest response:\u001b[39m\u001b[38;5;130;01m\\t\u001b[39;00m\u001b[38;5;124m'\u001b[39m\u001b[38;5;132;01m{}\u001b[39;00m\u001b[38;5;124m'\u001b[39m\u001b[38;5;124m\"\u001b[39m\n\u001b[1;32m    513\u001b[0m                 \u001b[38;5;241m.\u001b[39mformat(command, tries, response))\n",
      "\u001b[0;31mException\u001b[0m: Command 'cw 180' was unsuccessful for 4 tries. Latest response:\t'error Auto land'"
     ]
    }
   ],
   "source": [
    "tello.rotate_clockwise(180)"
   ]
  },
  {
   "cell_type": "code",
   "execution_count": 9,
   "metadata": {},
   "outputs": [
    {
     "name": "stderr",
     "output_type": "stream",
     "text": [
      "[INFO] tello.py - 421 - Send command: 'ccw 180'\n",
      "[INFO] tello.py - 445 - Response ccw 180: 'ok'\n"
     ]
    }
   ],
   "source": [
    "tello.rotate_counter_clockwise(180)"
   ]
  },
  {
   "cell_type": "markdown",
   "metadata": {},
   "source": [
    "## Telemetry Data"
   ]
  },
  {
   "cell_type": "markdown",
   "metadata": {},
   "source": [
    "### Battery"
   ]
  },
  {
   "cell_type": "code",
   "execution_count": 17,
   "metadata": {},
   "outputs": [
    {
     "name": "stdout",
     "output_type": "stream",
     "text": [
      "Power Level = 85 %\n"
     ]
    }
   ],
   "source": [
    "power=tello.get_battery()\n",
    "print(\"Power Level =\", power,\"%\")"
   ]
  },
  {
   "cell_type": "markdown",
   "metadata": {},
   "source": [
    "### Flight Time"
   ]
  },
  {
   "cell_type": "code",
   "execution_count": 18,
   "metadata": {},
   "outputs": [
    {
     "data": {
      "text/plain": [
       "79"
      ]
     },
     "execution_count": 18,
     "metadata": {},
     "output_type": "execute_result"
    }
   ],
   "source": [
    "tello.get_flight_time()"
   ]
  },
  {
   "cell_type": "markdown",
   "metadata": {},
   "source": [
    "### Temperature"
   ]
  },
  {
   "cell_type": "code",
   "execution_count": 1,
   "metadata": {},
   "outputs": [
    {
     "ename": "NameError",
     "evalue": "name 'tello' is not defined",
     "output_type": "error",
     "traceback": [
      "\u001b[0;31m---------------------------------------------------------------------------\u001b[0m",
      "\u001b[0;31mNameError\u001b[0m                                 Traceback (most recent call last)",
      "Cell \u001b[0;32mIn[1], line 1\u001b[0m\n\u001b[0;32m----> 1\u001b[0m tello\u001b[38;5;241m.\u001b[39mget_temperature()\n",
      "\u001b[0;31mNameError\u001b[0m: name 'tello' is not defined"
     ]
    }
   ],
   "source": [
    "tello.get_temperature()"
   ]
  },
  {
   "cell_type": "markdown",
   "metadata": {},
   "source": [
    "## Flip Forward\n",
    "\n",
    "Tello will perform a flip if the battery is 50% or greater.  If the following command does not work, please check your battery percentage."
   ]
  },
  {
   "cell_type": "code",
   "execution_count": 10,
   "metadata": {
    "pycharm": {
     "name": "#%%\n"
    }
   },
   "outputs": [
    {
     "name": "stderr",
     "output_type": "stream",
     "text": [
      "[INFO] tello.py - 421 - Send command: 'flip f'\n",
      "[INFO] tello.py - 445 - Response flip f: 'ok'\n",
      "[INFO] tello.py - 421 - Send command: 'land'\n",
      "[INFO] tello.py - 445 - Response land: 'error'\n",
      "[INFO] tello.py - 421 - Send command: 'land'\n",
      "[INFO] tello.py - 445 - Response land: 'error'\n",
      "[INFO] tello.py - 421 - Send command: 'land'\n",
      "[INFO] tello.py - 445 - Response land: 'ok'\n"
     ]
    }
   ],
   "source": [
    "tello.flip_forward()"
   ]
  },
  {
   "cell_type": "markdown",
   "metadata": {},
   "source": [
    "## LAND\n",
    "\n",
    "One of the most important commands to use is 'land'.  Land will instruct Tello to land safetly."
   ]
  },
  {
   "cell_type": "code",
   "execution_count": 21,
   "metadata": {
    "pycharm": {
     "name": "#%%\n"
    }
   },
   "outputs": [
    {
     "name": "stderr",
     "output_type": "stream",
     "text": [
      "[INFO] tello.py - 421 - Send command: 'land'\n",
      "[INFO] tello.py - 445 - Response land: 'ok'\n"
     ]
    }
   ],
   "source": [
    "tello.land()"
   ]
  },
  {
   "cell_type": "markdown",
   "metadata": {},
   "source": [
    "## Congratulations\n",
    "\n",
    "Thats it!  If you have successfully issued all of these comamnds your environment is setup for controlling the Tello drone with Python"
   ]
  },
  {
   "cell_type": "code",
   "execution_count": 5,
   "metadata": {},
   "outputs": [
    {
     "name": "stderr",
     "output_type": "stream",
     "text": [
      "[INFO] tello.py - 421 - Send command: 'takeoff'\n",
      "[INFO] tello.py - 445 - Response takeoff: 'ok'\n",
      "[INFO] tello.py - 421 - Send command: 'up 80'\n",
      "[INFO] tello.py - 445 - Response up 80: 'ok'\n"
     ]
    }
   ],
   "source": [
    "tello.takeoff()\n",
    "tello.move_up(80)"
   ]
  },
  {
   "cell_type": "code",
   "execution_count": 6,
   "metadata": {},
   "outputs": [
    {
     "name": "stderr",
     "output_type": "stream",
     "text": [
      "[INFO] tello.py - 421 - Send command: 'forward 100'\n",
      "[INFO] tello.py - 445 - Response forward 100: 'ok'\n"
     ]
    }
   ],
   "source": [
    "tello.move_forward(100)\n"
   ]
  },
  {
   "cell_type": "code",
   "execution_count": 7,
   "metadata": {},
   "outputs": [
    {
     "name": "stderr",
     "output_type": "stream",
     "text": [
      "[INFO] tello.py - 421 - Send command: 'left 100'\n",
      "[INFO] tello.py - 445 - Response left 100: 'ok'\n"
     ]
    }
   ],
   "source": [
    "tello.move_left(100)\n"
   ]
  },
  {
   "cell_type": "code",
   "execution_count": 8,
   "metadata": {},
   "outputs": [
    {
     "name": "stderr",
     "output_type": "stream",
     "text": [
      "[INFO] tello.py - 421 - Send command: 'back 100'\n",
      "[INFO] tello.py - 445 - Response back 100: 'ok'\n"
     ]
    }
   ],
   "source": [
    "tello.move_back(100)\n"
   ]
  },
  {
   "cell_type": "code",
   "execution_count": 9,
   "metadata": {},
   "outputs": [
    {
     "name": "stderr",
     "output_type": "stream",
     "text": [
      "[INFO] tello.py - 421 - Send command: 'right 100'\n",
      "[INFO] tello.py - 445 - Response right 100: 'ok'\n"
     ]
    }
   ],
   "source": [
    "tello.move_right(100)"
   ]
  },
  {
   "cell_type": "code",
   "execution_count": 7,
   "metadata": {},
   "outputs": [
    {
     "name": "stderr",
     "output_type": "stream",
     "text": [
      "[INFO] tello.py - 421 - Send command: 'forward 100'\n",
      "[INFO] tello.py - 445 - Response forward 100: 'ok'\n"
     ]
    }
   ],
   "source": [
    "tello.move_forward(100)"
   ]
  },
  {
   "cell_type": "code",
   "execution_count": 11,
   "metadata": {},
   "outputs": [
    {
     "name": "stderr",
     "output_type": "stream",
     "text": [
      "[INFO] tello.py - 421 - Send command: 'land'\n",
      "[INFO] tello.py - 445 - Response land: 'ok'\n"
     ]
    }
   ],
   "source": [
    "tello.land()"
   ]
  },
  {
   "cell_type": "code",
   "execution_count": null,
   "metadata": {},
   "outputs": [],
   "source": []
  }
 ],
 "metadata": {
  "kernelspec": {
   "display_name": "Python 3 (ipykernel)",
   "language": "python",
   "name": "python3"
  },
  "language_info": {
   "codemirror_mode": {
    "name": "ipython",
    "version": 3
   },
   "file_extension": ".py",
   "mimetype": "text/x-python",
   "name": "python",
   "nbconvert_exporter": "python",
   "pygments_lexer": "ipython3",
   "version": "3.12.4"
  },
  "toc": {
   "base_numbering": 1,
   "nav_menu": {},
   "number_sections": true,
   "sideBar": true,
   "skip_h1_title": false,
   "title_cell": "Table of Contents",
   "title_sidebar": "Contents",
   "toc_cell": false,
   "toc_position": {},
   "toc_section_display": true,
   "toc_window_display": false
  }
 },
 "nbformat": 4,
 "nbformat_minor": 4
}
